{
 "cells": [
  {
   "cell_type": "markdown",
   "metadata": {},
   "source": [
    "# Capstone- Extension \n",
    "\n",
    "### Introduction\n",
    "\n",
    "In the 1st part of the Capstone project I have created a predictive model that predicts the weekly sales of 45 stores for next 3 months. In the first part I haven't considered the department level data and took the sum of department sales to find the total sales of each store.\n",
    "\n",
    "In this part of the project I am extending the scope to department Level and trying to predict the sales of all the 98 departments for each store. Since my system couldn't handle this massive amount of data I am selecting the first 5 stores data to implement the same. This is because by selecting the first 5 stores it would be a perfect prototype of the entire data."
   ]
  },
  {
   "cell_type": "code",
   "execution_count": 1,
   "metadata": {},
   "outputs": [
    {
     "name": "stderr",
     "output_type": "stream",
     "text": [
      "/home/mahendra/anaconda2/envs/python3/lib/python3.6/site-packages/sklearn/cross_validation.py:44: DeprecationWarning: This module was deprecated in version 0.18 in favor of the model_selection module into which all the refactored classes and functions are moved. Also note that the interface of the new CV iterators are different from that of this module. This module will be removed in 0.20.\n",
      "  \"This module will be removed in 0.20.\", DeprecationWarning)\n"
     ]
    }
   ],
   "source": [
    "# Importing all necessary libraries to proceed with this project.\n",
    "\n",
    "import numpy as np\n",
    "import scipy.stats as stats\n",
    "import seaborn as sns\n",
    "import matplotlib.pyplot as plt\n",
    "import pandas as pd\n",
    "import calendar\n",
    "from sklearn.cross_validation import cross_val_score, cross_val_predict\n",
    "# from sklearn import metrics\n",
    "from sklearn.preprocessing import StandardScaler\n",
    "from sklearn.linear_model import Lasso, LinearRegression, LassoCV\n",
    "# from sklearn.model_selection import train_test_split, cross_val_score\n",
    "from sklearn.neighbors import KNeighborsRegressor\n",
    "import random\n",
    "# from itertools import cycle, islice\n",
    "# from sklearn.tree import DecisionTreeRegressor\n",
    "from sklearn.ensemble import RandomForestRegressor\n",
    "from sklearn.ensemble import GradientBoostingRegressor\n",
    "from sklearn.svm import SVR\n",
    "# Import timedelta from datetime library\n",
    "from datetime import timedelta\n",
    "\n",
    "\n",
    "ss = StandardScaler()\n",
    "sns.set_style('darkgrid')"
   ]
  },
  {
   "cell_type": "code",
   "execution_count": 2,
   "metadata": {
    "collapsed": true
   },
   "outputs": [],
   "source": [
    "# get the Datas\n",
    "walmart_path = './datasets/walmart.csv'\n",
    "data = pd.read_csv(walmart_path)"
   ]
  },
  {
   "cell_type": "code",
   "execution_count": 3,
   "metadata": {
    "collapsed": true
   },
   "outputs": [],
   "source": [
    "# Selecting only first 5 stores.\n",
    "data = data[data.Store <  6]"
   ]
  },
  {
   "cell_type": "code",
   "execution_count": 4,
   "metadata": {},
   "outputs": [
    {
     "data": {
      "text/html": [
       "<div>\n",
       "<table border=\"1\" class=\"dataframe\">\n",
       "  <thead>\n",
       "    <tr style=\"text-align: right;\">\n",
       "      <th></th>\n",
       "      <th>Store</th>\n",
       "      <th>Dept</th>\n",
       "      <th>Date</th>\n",
       "      <th>Weekly_Sales</th>\n",
       "      <th>IsHoliday</th>\n",
       "    </tr>\n",
       "  </thead>\n",
       "  <tbody>\n",
       "    <tr>\n",
       "      <th>0</th>\n",
       "      <td>1</td>\n",
       "      <td>1</td>\n",
       "      <td>2010-02-05</td>\n",
       "      <td>24924.50</td>\n",
       "      <td>False</td>\n",
       "    </tr>\n",
       "    <tr>\n",
       "      <th>1</th>\n",
       "      <td>1</td>\n",
       "      <td>1</td>\n",
       "      <td>2010-02-12</td>\n",
       "      <td>46039.49</td>\n",
       "      <td>True</td>\n",
       "    </tr>\n",
       "    <tr>\n",
       "      <th>2</th>\n",
       "      <td>1</td>\n",
       "      <td>1</td>\n",
       "      <td>2010-02-19</td>\n",
       "      <td>41595.55</td>\n",
       "      <td>False</td>\n",
       "    </tr>\n",
       "    <tr>\n",
       "      <th>3</th>\n",
       "      <td>1</td>\n",
       "      <td>1</td>\n",
       "      <td>2010-02-26</td>\n",
       "      <td>19403.54</td>\n",
       "      <td>False</td>\n",
       "    </tr>\n",
       "    <tr>\n",
       "      <th>4</th>\n",
       "      <td>1</td>\n",
       "      <td>1</td>\n",
       "      <td>2010-03-05</td>\n",
       "      <td>21827.90</td>\n",
       "      <td>False</td>\n",
       "    </tr>\n",
       "  </tbody>\n",
       "</table>\n",
       "</div>"
      ],
      "text/plain": [
       "   Store  Dept        Date  Weekly_Sales IsHoliday\n",
       "0      1     1  2010-02-05      24924.50     False\n",
       "1      1     1  2010-02-12      46039.49      True\n",
       "2      1     1  2010-02-19      41595.55     False\n",
       "3      1     1  2010-02-26      19403.54     False\n",
       "4      1     1  2010-03-05      21827.90     False"
      ]
     },
     "execution_count": 4,
     "metadata": {},
     "output_type": "execute_result"
    }
   ],
   "source": [
    "data.head()"
   ]
  },
  {
   "cell_type": "code",
   "execution_count": 5,
   "metadata": {
    "collapsed": true
   },
   "outputs": [],
   "source": [
    "# yes my assumption was correct python have something to do with date format. \n",
    "# Now converting \"Date\" again to date time\n",
    "data[\"Date\"]=pd.to_datetime(data.Date)\n",
    "\n",
    "# Extracting details from date given. so that can be used for seasonal checks or grouping\n",
    "\n",
    "data[\"Day\"]=data.Date.dt.day\n",
    "data[\"Month\"]=data.Date.dt.month\n",
    "data[\"Year\"]=data.Date.dt.year\n",
    "\n",
    "# Changing the Months value from numbers to real values like Jan, Feb to Dec\n",
    "data['Month'] = data['Month'].apply(lambda x: calendar.month_abbr[x])"
   ]
  },
  {
   "cell_type": "code",
   "execution_count": 6,
   "metadata": {},
   "outputs": [
    {
     "data": {
      "text/html": [
       "<div>\n",
       "<table border=\"1\" class=\"dataframe\">\n",
       "  <thead>\n",
       "    <tr style=\"text-align: right;\">\n",
       "      <th></th>\n",
       "      <th>Store</th>\n",
       "      <th>Dept</th>\n",
       "      <th>Date</th>\n",
       "      <th>Weekly_Sales</th>\n",
       "      <th>IsHoliday</th>\n",
       "      <th>Day</th>\n",
       "      <th>Month</th>\n",
       "      <th>Year</th>\n",
       "    </tr>\n",
       "  </thead>\n",
       "  <tbody>\n",
       "    <tr>\n",
       "      <th>0</th>\n",
       "      <td>1</td>\n",
       "      <td>1</td>\n",
       "      <td>2010-02-05</td>\n",
       "      <td>24924.50</td>\n",
       "      <td>False</td>\n",
       "      <td>5</td>\n",
       "      <td>Feb</td>\n",
       "      <td>2010</td>\n",
       "    </tr>\n",
       "    <tr>\n",
       "      <th>1</th>\n",
       "      <td>1</td>\n",
       "      <td>1</td>\n",
       "      <td>2010-02-12</td>\n",
       "      <td>46039.49</td>\n",
       "      <td>True</td>\n",
       "      <td>12</td>\n",
       "      <td>Feb</td>\n",
       "      <td>2010</td>\n",
       "    </tr>\n",
       "    <tr>\n",
       "      <th>2</th>\n",
       "      <td>1</td>\n",
       "      <td>1</td>\n",
       "      <td>2010-02-19</td>\n",
       "      <td>41595.55</td>\n",
       "      <td>False</td>\n",
       "      <td>19</td>\n",
       "      <td>Feb</td>\n",
       "      <td>2010</td>\n",
       "    </tr>\n",
       "    <tr>\n",
       "      <th>3</th>\n",
       "      <td>1</td>\n",
       "      <td>1</td>\n",
       "      <td>2010-02-26</td>\n",
       "      <td>19403.54</td>\n",
       "      <td>False</td>\n",
       "      <td>26</td>\n",
       "      <td>Feb</td>\n",
       "      <td>2010</td>\n",
       "    </tr>\n",
       "    <tr>\n",
       "      <th>4</th>\n",
       "      <td>1</td>\n",
       "      <td>1</td>\n",
       "      <td>2010-03-05</td>\n",
       "      <td>21827.90</td>\n",
       "      <td>False</td>\n",
       "      <td>5</td>\n",
       "      <td>Mar</td>\n",
       "      <td>2010</td>\n",
       "    </tr>\n",
       "  </tbody>\n",
       "</table>\n",
       "</div>"
      ],
      "text/plain": [
       "   Store  Dept       Date  Weekly_Sales IsHoliday  Day Month  Year\n",
       "0      1     1 2010-02-05      24924.50     False    5   Feb  2010\n",
       "1      1     1 2010-02-12      46039.49      True   12   Feb  2010\n",
       "2      1     1 2010-02-19      41595.55     False   19   Feb  2010\n",
       "3      1     1 2010-02-26      19403.54     False   26   Feb  2010\n",
       "4      1     1 2010-03-05      21827.90     False    5   Mar  2010"
      ]
     },
     "execution_count": 6,
     "metadata": {},
     "output_type": "execute_result"
    }
   ],
   "source": [
    "data.head()"
   ]
  },
  {
   "cell_type": "code",
   "execution_count": 7,
   "metadata": {
    "collapsed": true
   },
   "outputs": [],
   "source": [
    "# Will convert the bool to 1 and 0 for easier use later.\n",
    "data.IsHoliday=data.IsHoliday.map(lambda x: 1 if x==True else 0)"
   ]
  },
  {
   "cell_type": "code",
   "execution_count": 8,
   "metadata": {
    "collapsed": true
   },
   "outputs": [],
   "source": [
    "data.Store=data.Store.map(lambda x: 'Store_%s'%x)\n",
    "data.Dept=data.Dept.map(lambda x: 'Dept_%s'%x)\n"
   ]
  },
  {
   "cell_type": "code",
   "execution_count": 9,
   "metadata": {},
   "outputs": [
    {
     "data": {
      "text/html": [
       "<div>\n",
       "<table border=\"1\" class=\"dataframe\">\n",
       "  <thead>\n",
       "    <tr style=\"text-align: right;\">\n",
       "      <th></th>\n",
       "      <th>Store</th>\n",
       "      <th>Dept</th>\n",
       "      <th>Date</th>\n",
       "      <th>Weekly_Sales</th>\n",
       "      <th>IsHoliday</th>\n",
       "      <th>Day</th>\n",
       "      <th>Month</th>\n",
       "      <th>Year</th>\n",
       "    </tr>\n",
       "  </thead>\n",
       "  <tbody>\n",
       "    <tr>\n",
       "      <th>0</th>\n",
       "      <td>Store_1</td>\n",
       "      <td>Dept_1</td>\n",
       "      <td>2010-02-05</td>\n",
       "      <td>24924.50</td>\n",
       "      <td>0</td>\n",
       "      <td>5</td>\n",
       "      <td>Feb</td>\n",
       "      <td>2010</td>\n",
       "    </tr>\n",
       "    <tr>\n",
       "      <th>1</th>\n",
       "      <td>Store_1</td>\n",
       "      <td>Dept_1</td>\n",
       "      <td>2010-02-12</td>\n",
       "      <td>46039.49</td>\n",
       "      <td>1</td>\n",
       "      <td>12</td>\n",
       "      <td>Feb</td>\n",
       "      <td>2010</td>\n",
       "    </tr>\n",
       "    <tr>\n",
       "      <th>2</th>\n",
       "      <td>Store_1</td>\n",
       "      <td>Dept_1</td>\n",
       "      <td>2010-02-19</td>\n",
       "      <td>41595.55</td>\n",
       "      <td>0</td>\n",
       "      <td>19</td>\n",
       "      <td>Feb</td>\n",
       "      <td>2010</td>\n",
       "    </tr>\n",
       "    <tr>\n",
       "      <th>3</th>\n",
       "      <td>Store_1</td>\n",
       "      <td>Dept_1</td>\n",
       "      <td>2010-02-26</td>\n",
       "      <td>19403.54</td>\n",
       "      <td>0</td>\n",
       "      <td>26</td>\n",
       "      <td>Feb</td>\n",
       "      <td>2010</td>\n",
       "    </tr>\n",
       "    <tr>\n",
       "      <th>4</th>\n",
       "      <td>Store_1</td>\n",
       "      <td>Dept_1</td>\n",
       "      <td>2010-03-05</td>\n",
       "      <td>21827.90</td>\n",
       "      <td>0</td>\n",
       "      <td>5</td>\n",
       "      <td>Mar</td>\n",
       "      <td>2010</td>\n",
       "    </tr>\n",
       "  </tbody>\n",
       "</table>\n",
       "</div>"
      ],
      "text/plain": [
       "     Store    Dept       Date  Weekly_Sales  IsHoliday  Day Month  Year\n",
       "0  Store_1  Dept_1 2010-02-05      24924.50          0    5   Feb  2010\n",
       "1  Store_1  Dept_1 2010-02-12      46039.49          1   12   Feb  2010\n",
       "2  Store_1  Dept_1 2010-02-19      41595.55          0   19   Feb  2010\n",
       "3  Store_1  Dept_1 2010-02-26      19403.54          0   26   Feb  2010\n",
       "4  Store_1  Dept_1 2010-03-05      21827.90          0    5   Mar  2010"
      ]
     },
     "execution_count": 9,
     "metadata": {},
     "output_type": "execute_result"
    }
   ],
   "source": [
    "data.head()"
   ]
  },
  {
   "cell_type": "markdown",
   "metadata": {},
   "source": [
    "#### Feature Engineering\n",
    "\n",
    "Adding a new feature which is a combination of the store and dept. This is because than keeping store and dept individually the combination can explain the data tred better. "
   ]
  },
  {
   "cell_type": "code",
   "execution_count": 10,
   "metadata": {
    "collapsed": true
   },
   "outputs": [],
   "source": [
    "data[\"Store_Dept\"]=data[\"Store\"]+data[\"Dept\"]"
   ]
  },
  {
   "cell_type": "code",
   "execution_count": 11,
   "metadata": {},
   "outputs": [
    {
     "data": {
      "text/html": [
       "<div>\n",
       "<table border=\"1\" class=\"dataframe\">\n",
       "  <thead>\n",
       "    <tr style=\"text-align: right;\">\n",
       "      <th></th>\n",
       "      <th>Store</th>\n",
       "      <th>Dept</th>\n",
       "      <th>Date</th>\n",
       "      <th>Weekly_Sales</th>\n",
       "      <th>IsHoliday</th>\n",
       "      <th>Day</th>\n",
       "      <th>Month</th>\n",
       "      <th>Year</th>\n",
       "      <th>New_Feature</th>\n",
       "    </tr>\n",
       "  </thead>\n",
       "  <tbody>\n",
       "    <tr>\n",
       "      <th>0</th>\n",
       "      <td>Store_1</td>\n",
       "      <td>Dept_1</td>\n",
       "      <td>2010-02-05</td>\n",
       "      <td>24924.50</td>\n",
       "      <td>0</td>\n",
       "      <td>5</td>\n",
       "      <td>Feb</td>\n",
       "      <td>2010</td>\n",
       "      <td>Store_1Dept_1</td>\n",
       "    </tr>\n",
       "    <tr>\n",
       "      <th>1</th>\n",
       "      <td>Store_1</td>\n",
       "      <td>Dept_1</td>\n",
       "      <td>2010-02-12</td>\n",
       "      <td>46039.49</td>\n",
       "      <td>1</td>\n",
       "      <td>12</td>\n",
       "      <td>Feb</td>\n",
       "      <td>2010</td>\n",
       "      <td>Store_1Dept_1</td>\n",
       "    </tr>\n",
       "    <tr>\n",
       "      <th>2</th>\n",
       "      <td>Store_1</td>\n",
       "      <td>Dept_1</td>\n",
       "      <td>2010-02-19</td>\n",
       "      <td>41595.55</td>\n",
       "      <td>0</td>\n",
       "      <td>19</td>\n",
       "      <td>Feb</td>\n",
       "      <td>2010</td>\n",
       "      <td>Store_1Dept_1</td>\n",
       "    </tr>\n",
       "    <tr>\n",
       "      <th>3</th>\n",
       "      <td>Store_1</td>\n",
       "      <td>Dept_1</td>\n",
       "      <td>2010-02-26</td>\n",
       "      <td>19403.54</td>\n",
       "      <td>0</td>\n",
       "      <td>26</td>\n",
       "      <td>Feb</td>\n",
       "      <td>2010</td>\n",
       "      <td>Store_1Dept_1</td>\n",
       "    </tr>\n",
       "    <tr>\n",
       "      <th>4</th>\n",
       "      <td>Store_1</td>\n",
       "      <td>Dept_1</td>\n",
       "      <td>2010-03-05</td>\n",
       "      <td>21827.90</td>\n",
       "      <td>0</td>\n",
       "      <td>5</td>\n",
       "      <td>Mar</td>\n",
       "      <td>2010</td>\n",
       "      <td>Store_1Dept_1</td>\n",
       "    </tr>\n",
       "  </tbody>\n",
       "</table>\n",
       "</div>"
      ],
      "text/plain": [
       "     Store    Dept       Date  Weekly_Sales  IsHoliday  Day Month  Year  \\\n",
       "0  Store_1  Dept_1 2010-02-05      24924.50          0    5   Feb  2010   \n",
       "1  Store_1  Dept_1 2010-02-12      46039.49          1   12   Feb  2010   \n",
       "2  Store_1  Dept_1 2010-02-19      41595.55          0   19   Feb  2010   \n",
       "3  Store_1  Dept_1 2010-02-26      19403.54          0   26   Feb  2010   \n",
       "4  Store_1  Dept_1 2010-03-05      21827.90          0    5   Mar  2010   \n",
       "\n",
       "     New_Feature  \n",
       "0  Store_1Dept_1  \n",
       "1  Store_1Dept_1  \n",
       "2  Store_1Dept_1  \n",
       "3  Store_1Dept_1  \n",
       "4  Store_1Dept_1  "
      ]
     },
     "execution_count": 11,
     "metadata": {},
     "output_type": "execute_result"
    }
   ],
   "source": [
    "data.head()"
   ]
  },
  {
   "cell_type": "code",
   "execution_count": 12,
   "metadata": {},
   "outputs": [
    {
     "data": {
      "image/png": "[encoded data removed]",
      "text/plain": [
       "<matplotlib.figure.Figure at 0x7fbbf9e22080>"
      ]
     },
     "metadata": {},
     "output_type": "display_data"
    }
   ],
   "source": [
    "fig = plt.figure(figsize=(15, 7))\n",
    "ax = fig.gca()\n",
    "\n",
    "ax = sns.boxplot(data.Weekly_Sales, orient='h', fliersize=5, \n",
    "                 linewidth=3, notch=True, saturation=0.5, ax=ax)\n",
    "plt.show()"
   ]
  },
  {
   "cell_type": "code",
   "execution_count": 13,
   "metadata": {
    "collapsed": true
   },
   "outputs": [],
   "source": [
    "# Lets consider 3,000,000 as upper limit \n",
    "data=data[(data.Weekly_Sales<40000) & (data.Weekly_Sales>0)]"
   ]
  },
  {
   "cell_type": "code",
   "execution_count": 14,
   "metadata": {},
   "outputs": [
    {
     "data": {
      "image/png": "[encoded data removed]",
      "text/plain": [
       "<matplotlib.figure.Figure at 0x7fbbf6acab38>"
      ]
     },
     "metadata": {},
     "output_type": "display_data"
    }
   ],
   "source": [
    "fig = plt.figure(figsize=(15, 7))\n",
    "ax = fig.gca()\n",
    "\n",
    "ax = sns.boxplot(data.Weekly_Sales, orient='h', fliersize=5, \n",
    "                 linewidth=3, notch=True, saturation=0.5, ax=ax)\n",
    "plt.show()"
   ]
  },
  {
   "cell_type": "code",
   "execution_count": 15,
   "metadata": {},
   "outputs": [
    {
     "data": {
      "text/plain": [
       "(41863, 9)"
      ]
     },
     "execution_count": 15,
     "metadata": {},
     "output_type": "execute_result"
    }
   ],
   "source": [
    "data.shape"
   ]
  },
  {
   "cell_type": "code",
   "execution_count": 16,
   "metadata": {
    "collapsed": true
   },
   "outputs": [],
   "source": [
    "# Create Week column which says which week of the month it is. \n",
    "data[\"Week\"]= round(np.floor(((data.Day-1)/7)+1))\n"
   ]
  },
  {
   "cell_type": "code",
   "execution_count": 17,
   "metadata": {
    "collapsed": true
   },
   "outputs": [],
   "source": [
    "data.drop('Day',axis=1,inplace=True)"
   ]
  },
  {
   "cell_type": "code",
   "execution_count": 18,
   "metadata": {},
   "outputs": [
    {
     "data": {
      "text/html": [
       "<div>\n",
       "<table border=\"1\" class=\"dataframe\">\n",
       "  <thead>\n",
       "    <tr style=\"text-align: right;\">\n",
       "      <th></th>\n",
       "      <th>Store</th>\n",
       "      <th>Dept</th>\n",
       "      <th>Date</th>\n",
       "      <th>Weekly_Sales</th>\n",
       "      <th>IsHoliday</th>\n",
       "      <th>Month</th>\n",
       "      <th>Year</th>\n",
       "      <th>New_Feature</th>\n",
       "      <th>Week</th>\n",
       "    </tr>\n",
       "  </thead>\n",
       "  <tbody>\n",
       "    <tr>\n",
       "      <th>0</th>\n",
       "      <td>Store_1</td>\n",
       "      <td>Dept_1</td>\n",
       "      <td>2010-02-05</td>\n",
       "      <td>24924.50</td>\n",
       "      <td>0</td>\n",
       "      <td>Feb</td>\n",
       "      <td>2010</td>\n",
       "      <td>Store_1Dept_1</td>\n",
       "      <td>1.0</td>\n",
       "    </tr>\n",
       "    <tr>\n",
       "      <th>3</th>\n",
       "      <td>Store_1</td>\n",
       "      <td>Dept_1</td>\n",
       "      <td>2010-02-26</td>\n",
       "      <td>19403.54</td>\n",
       "      <td>0</td>\n",
       "      <td>Feb</td>\n",
       "      <td>2010</td>\n",
       "      <td>Store_1Dept_1</td>\n",
       "      <td>4.0</td>\n",
       "    </tr>\n",
       "    <tr>\n",
       "      <th>4</th>\n",
       "      <td>Store_1</td>\n",
       "      <td>Dept_1</td>\n",
       "      <td>2010-03-05</td>\n",
       "      <td>21827.90</td>\n",
       "      <td>0</td>\n",
       "      <td>Mar</td>\n",
       "      <td>2010</td>\n",
       "      <td>Store_1Dept_1</td>\n",
       "      <td>1.0</td>\n",
       "    </tr>\n",
       "    <tr>\n",
       "      <th>5</th>\n",
       "      <td>Store_1</td>\n",
       "      <td>Dept_1</td>\n",
       "      <td>2010-03-12</td>\n",
       "      <td>21043.39</td>\n",
       "      <td>0</td>\n",
       "      <td>Mar</td>\n",
       "      <td>2010</td>\n",
       "      <td>Store_1Dept_1</td>\n",
       "      <td>2.0</td>\n",
       "    </tr>\n",
       "    <tr>\n",
       "      <th>6</th>\n",
       "      <td>Store_1</td>\n",
       "      <td>Dept_1</td>\n",
       "      <td>2010-03-19</td>\n",
       "      <td>22136.64</td>\n",
       "      <td>0</td>\n",
       "      <td>Mar</td>\n",
       "      <td>2010</td>\n",
       "      <td>Store_1Dept_1</td>\n",
       "      <td>3.0</td>\n",
       "    </tr>\n",
       "  </tbody>\n",
       "</table>\n",
       "</div>"
      ],
      "text/plain": [
       "     Store    Dept       Date  Weekly_Sales  IsHoliday Month  Year  \\\n",
       "0  Store_1  Dept_1 2010-02-05      24924.50          0   Feb  2010   \n",
       "3  Store_1  Dept_1 2010-02-26      19403.54          0   Feb  2010   \n",
       "4  Store_1  Dept_1 2010-03-05      21827.90          0   Mar  2010   \n",
       "5  Store_1  Dept_1 2010-03-12      21043.39          0   Mar  2010   \n",
       "6  Store_1  Dept_1 2010-03-19      22136.64          0   Mar  2010   \n",
       "\n",
       "     New_Feature  Week  \n",
       "0  Store_1Dept_1   1.0  \n",
       "3  Store_1Dept_1   4.0  \n",
       "4  Store_1Dept_1   1.0  \n",
       "5  Store_1Dept_1   2.0  \n",
       "6  Store_1Dept_1   3.0  "
      ]
     },
     "execution_count": 18,
     "metadata": {},
     "output_type": "execute_result"
    }
   ],
   "source": [
    "data.head()"
   ]
  },
  {
   "cell_type": "code",
   "execution_count": 19,
   "metadata": {
    "collapsed": true
   },
   "outputs": [],
   "source": [
    "# Create dummies for the columns that are required for later studies\n",
    "# Store_dummies = pd.get_dummies(data.Store, prefix='Store')\n",
    "# Dept_dummies= pd.get_dummies(data.Dept, prefix='Dept')\n",
    "New_dummies = pd.get_dummies(data.Store_Dept, drop_first=True)\n",
    "Month_dummies = pd.get_dummies(data.Month, prefix='Month')\n",
    "Year_dummies = pd.get_dummies(data.Year, prefix='Year')\n",
    "Week_dummies = pd.get_dummies(data.Week, prefix='Week')\n",
    "\n",
    "# concatenate DataFrames (axis=0 for rows, axis=1 for columns)\n",
    "data = pd.concat([data, New_dummies,Month_dummies,Year_dummies,Week_dummies], axis=1)"
   ]
  },
  {
   "cell_type": "code",
   "execution_count": 20,
   "metadata": {
    "collapsed": true
   },
   "outputs": [],
   "source": [
    "# Drop the columns that we have created dummies\n",
    "data.drop(['Dept', 'Store','Month','Year','Week','Store_Dept'], axis=1, inplace=True) \n",
    "# drop each column from the list of dummies to make it perfect to use in models\n",
    "data.drop(['Month_Jan','Year_2010','Week_5.0'], axis=1, inplace=True) "
   ]
  },
  {
   "cell_type": "code",
   "execution_count": 21,
   "metadata": {
    "collapsed": true
   },
   "outputs": [],
   "source": [
    "data = data.reindex(np.random.permutation(data.index))"
   ]
  },
  {
   "cell_type": "code",
   "execution_count": 22,
   "metadata": {},
   "outputs": [
    {
     "data": {
      "text/plain": [
       "(41863, 361)"
      ]
     },
     "execution_count": 22,
     "metadata": {},
     "output_type": "execute_result"
    }
   ],
   "source": [
    "data.shape"
   ]
  },
  {
   "cell_type": "code",
   "execution_count": 23,
   "metadata": {},
   "outputs": [
    {
     "data": {
      "text/plain": [
       "Index(['Date', 'Weekly_Sales', 'IsHoliday', 'Store_1Dept_10', 'Store_1Dept_11',\n",
       "       'Store_1Dept_12', 'Store_1Dept_13', 'Store_1Dept_14', 'Store_1Dept_16',\n",
       "       'Store_1Dept_17',\n",
       "       ...\n",
       "       'Month_May', 'Month_Nov', 'Month_Oct', 'Month_Sep', 'Year_2011',\n",
       "       'Year_2012', 'Week_1.0', 'Week_2.0', 'Week_3.0', 'Week_4.0'],\n",
       "      dtype='object', length=361)"
      ]
     },
     "execution_count": 23,
     "metadata": {},
     "output_type": "execute_result"
    }
   ],
   "source": [
    "data.columns"
   ]
  },
  {
   "cell_type": "code",
   "execution_count": 24,
   "metadata": {
    "collapsed": true
   },
   "outputs": [],
   "source": [
    "# data.to_csv('./datasets/data.csv', index = False)"
   ]
  },
  {
   "cell_type": "code",
   "execution_count": 25,
   "metadata": {
    "collapsed": true
   },
   "outputs": [],
   "source": [
    "predictors=[col for col in data.columns ]\n",
    "\n",
    "X=data[predictors]\n",
    "y=data.Weekly_Sales.values"
   ]
  },
  {
   "cell_type": "code",
   "execution_count": 26,
   "metadata": {},
   "outputs": [
    {
     "data": {
      "text/plain": [
       "Index(['Date', 'Weekly_Sales', 'IsHoliday', 'Store_1Dept_10', 'Store_1Dept_11',\n",
       "       'Store_1Dept_12', 'Store_1Dept_13', 'Store_1Dept_14', 'Store_1Dept_16',\n",
       "       'Store_1Dept_17',\n",
       "       ...\n",
       "       'Month_May', 'Month_Nov', 'Month_Oct', 'Month_Sep', 'Year_2011',\n",
       "       'Year_2012', 'Week_1.0', 'Week_2.0', 'Week_3.0', 'Week_4.0'],\n",
       "      dtype='object', length=361)"
      ]
     },
     "execution_count": 26,
     "metadata": {},
     "output_type": "execute_result"
    }
   ],
   "source": [
    "X.columns"
   ]
  },
  {
   "cell_type": "code",
   "execution_count": 27,
   "metadata": {
    "collapsed": true
   },
   "outputs": [],
   "source": [
    "offset = timedelta(days=90)\n",
    "split_date=X.Date.max()-offset"
   ]
  },
  {
   "cell_type": "code",
   "execution_count": 28,
   "metadata": {
    "collapsed": true
   },
   "outputs": [],
   "source": [
    "X_train = X.ix[:,2:][X.Date < split_date]\n",
    "y_train = X['Weekly_Sales'][X.Date < split_date]\n",
    "\n",
    "X_test = X.ix[:,2:][X.Date > split_date]\n",
    "y_test = X['Weekly_Sales'][X.Date > split_date]\n",
    "\n",
    "# X_train.reset_index(range(0,len(X_train)),inplace=True)\n",
    "# X_test.reset_index(range(0,len(X_test)),inplace=True)"
   ]
  },
  {
   "cell_type": "code",
   "execution_count": 29,
   "metadata": {},
   "outputs": [
    {
     "data": {
      "text/plain": [
       "Index(['IsHoliday', 'Store_1Dept_10', 'Store_1Dept_11', 'Store_1Dept_12',\n",
       "       'Store_1Dept_13', 'Store_1Dept_14', 'Store_1Dept_16', 'Store_1Dept_17',\n",
       "       'Store_1Dept_18', 'Store_1Dept_19',\n",
       "       ...\n",
       "       'Month_May', 'Month_Nov', 'Month_Oct', 'Month_Sep', 'Year_2011',\n",
       "       'Year_2012', 'Week_1.0', 'Week_2.0', 'Week_3.0', 'Week_4.0'],\n",
       "      dtype='object', length=359)"
      ]
     },
     "execution_count": 29,
     "metadata": {},
     "output_type": "execute_result"
    }
   ],
   "source": [
    "X_train.columns"
   ]
  },
  {
   "cell_type": "code",
   "execution_count": 30,
   "metadata": {
    "collapsed": true
   },
   "outputs": [],
   "source": [
    "# Xs = ss.fit_transform(X)\n",
    "X_train_s=ss.fit_transform(X_train)\n",
    "X_test_s=ss.fit_transform(X_test)"
   ]
  },
  {
   "cell_type": "code",
   "execution_count": 31,
   "metadata": {},
   "outputs": [
    {
     "name": "stderr",
     "output_type": "stream",
     "text": [
      "............................................................................................................................................................................................................................................................................................................................................................................................................................................................................................................................................................................................................................................................................................................................................................................................................................................................................................................................................................................................................................................................................................................................................................................................................................................................................................................................................................................................................................................................................................................................................................................................................................................................................................................................................................................................................................................................................................................................................................................................................................................................................................................................................................................................................................................................................................................................................................................................................................................................................................................................................................................................................................................................................................................................................................................................................................................................................................................................................................................................................................................................................................................................................................................................................................................................................................................................................................................................................................................................................................................................................................................................................................................................................................................................................................................................................................................................................................................................................................................................................................................................................................................................................................................................................................................................................................................................................................................................................................................................................................................................................................................................................................................................................................................................................................................................................................................................................................................................................................................................................................................................................................................................................................................................................................................................................................................................................................................................................................................................................................................................................................................................................................................................................................................................................................................................................................................................................................................................................................................................................................................................................................................................................................................................................................................................................................................................................................................................................................................................................................................................................................................................................................................................................................................................................................................................................................................................................................................................................................................................................................................................................................................................................................................................................................................................................................................................................................................................................................................................................................................................................................................................................................................................................................................................................................................................................................................................................................................................................................................................................................................................................................................................................................................................................................................................................................................................................................................................................................................................................................................................................................................................................................................................................................................................................................................................................................"
     ]
    },
    {
     "name": "stderr",
     "output_type": "stream",
     "text": [
      "....................................................................................................................................................................................................................................................................................................................................................................................................................................................................................................................................................................................................................................................................................................................................................................................................................................................................................................................................................................................................................................................................................................................................................................................................................................................................................................................................................................................................................................................................................................................................................................................[Parallel(n_jobs=1)]: Done  10 out of  10 | elapsed:   39.5s finished\n"
     ]
    },
    {
     "data": {
      "text/plain": [
       "LassoCV(alphas=None, copy_X=True, cv=10, eps=0.001, fit_intercept=True,\n",
       "    max_iter=2000, n_alphas=1000, n_jobs=1, normalize=False,\n",
       "    positive=False, precompute='auto', random_state=None,\n",
       "    selection='cyclic', tol=0.0001, verbose=1)"
      ]
     },
     "execution_count": 31,
     "metadata": {},
     "output_type": "execute_result"
    }
   ],
   "source": [
    "lasso_cv = LassoCV(n_alphas=1000,max_iter=2000, cv=10, verbose=1)\n",
    "lasso_cv.fit(X_train_s, y_train)"
   ]
  },
  {
   "cell_type": "code",
   "execution_count": 32,
   "metadata": {},
   "outputs": [
    {
     "data": {
      "text/html": [
       "<div>\n",
       "<table border=\"1\" class=\"dataframe\">\n",
       "  <thead>\n",
       "    <tr style=\"text-align: right;\">\n",
       "      <th></th>\n",
       "      <th>abscoef</th>\n",
       "      <th>coef</th>\n",
       "      <th>feature</th>\n",
       "    </tr>\n",
       "  </thead>\n",
       "  <tbody>\n",
       "    <tr>\n",
       "      <th>30</th>\n",
       "      <td>1173.000921</td>\n",
       "      <td>1173.000921</td>\n",
       "      <td>Store_1Dept_4</td>\n",
       "    </tr>\n",
       "    <tr>\n",
       "      <th>4</th>\n",
       "      <td>1130.190207</td>\n",
       "      <td>1130.190207</td>\n",
       "      <td>Store_1Dept_13</td>\n",
       "    </tr>\n",
       "    <tr>\n",
       "      <th>57</th>\n",
       "      <td>1129.633527</td>\n",
       "      <td>1129.633527</td>\n",
       "      <td>Store_1Dept_8</td>\n",
       "    </tr>\n",
       "    <tr>\n",
       "      <th>66</th>\n",
       "      <td>1106.309513</td>\n",
       "      <td>1106.309513</td>\n",
       "      <td>Store_1Dept_97</td>\n",
       "    </tr>\n",
       "    <tr>\n",
       "      <th>123</th>\n",
       "      <td>975.575467</td>\n",
       "      <td>975.575467</td>\n",
       "      <td>Store_2Dept_79</td>\n",
       "    </tr>\n",
       "    <tr>\n",
       "      <th>267</th>\n",
       "      <td>973.855353</td>\n",
       "      <td>973.855353</td>\n",
       "      <td>Store_4Dept_97</td>\n",
       "    </tr>\n",
       "    <tr>\n",
       "      <th>207</th>\n",
       "      <td>964.843628</td>\n",
       "      <td>964.843628</td>\n",
       "      <td>Store_4Dept_10</td>\n",
       "    </tr>\n",
       "    <tr>\n",
       "      <th>70</th>\n",
       "      <td>963.102610</td>\n",
       "      <td>963.102610</td>\n",
       "      <td>Store_2Dept_10</td>\n",
       "    </tr>\n",
       "    <tr>\n",
       "      <th>131</th>\n",
       "      <td>949.170122</td>\n",
       "      <td>949.170122</td>\n",
       "      <td>Store_2Dept_96</td>\n",
       "    </tr>\n",
       "    <tr>\n",
       "      <th>239</th>\n",
       "      <td>948.709565</td>\n",
       "      <td>948.709565</td>\n",
       "      <td>Store_4Dept_46</td>\n",
       "    </tr>\n",
       "    <tr>\n",
       "      <th>125</th>\n",
       "      <td>939.496752</td>\n",
       "      <td>939.496752</td>\n",
       "      <td>Store_2Dept_81</td>\n",
       "    </tr>\n",
       "    <tr>\n",
       "      <th>260</th>\n",
       "      <td>925.941324</td>\n",
       "      <td>925.941324</td>\n",
       "      <td>Store_4Dept_81</td>\n",
       "    </tr>\n",
       "    <tr>\n",
       "      <th>1</th>\n",
       "      <td>921.620484</td>\n",
       "      <td>921.620484</td>\n",
       "      <td>Store_1Dept_10</td>\n",
       "    </tr>\n",
       "    <tr>\n",
       "      <th>56</th>\n",
       "      <td>907.363795</td>\n",
       "      <td>907.363795</td>\n",
       "      <td>Store_1Dept_79</td>\n",
       "    </tr>\n",
       "    <tr>\n",
       "      <th>266</th>\n",
       "      <td>865.992737</td>\n",
       "      <td>865.992737</td>\n",
       "      <td>Store_4Dept_96</td>\n",
       "    </tr>\n",
       "    <tr>\n",
       "      <th>181</th>\n",
       "      <td>861.221353</td>\n",
       "      <td>-861.221353</td>\n",
       "      <td>Store_3Dept_60</td>\n",
       "    </tr>\n",
       "    <tr>\n",
       "      <th>59</th>\n",
       "      <td>861.032452</td>\n",
       "      <td>861.032452</td>\n",
       "      <td>Store_1Dept_81</td>\n",
       "    </tr>\n",
       "    <tr>\n",
       "      <th>154</th>\n",
       "      <td>859.212209</td>\n",
       "      <td>-859.212209</td>\n",
       "      <td>Store_3Dept_28</td>\n",
       "    </tr>\n",
       "    <tr>\n",
       "      <th>289</th>\n",
       "      <td>857.123528</td>\n",
       "      <td>-857.123528</td>\n",
       "      <td>Store_5Dept_28</td>\n",
       "    </tr>\n",
       "    <tr>\n",
       "      <th>318</th>\n",
       "      <td>855.504925</td>\n",
       "      <td>-855.504925</td>\n",
       "      <td>Store_5Dept_60</td>\n",
       "    </tr>\n",
       "    <tr>\n",
       "      <th>199</th>\n",
       "      <td>851.521661</td>\n",
       "      <td>-851.521661</td>\n",
       "      <td>Store_3Dept_91</td>\n",
       "    </tr>\n",
       "    <tr>\n",
       "      <th>246</th>\n",
       "      <td>850.593131</td>\n",
       "      <td>-850.593131</td>\n",
       "      <td>Store_4Dept_54</td>\n",
       "    </tr>\n",
       "    <tr>\n",
       "      <th>288</th>\n",
       "      <td>847.321914</td>\n",
       "      <td>-847.321914</td>\n",
       "      <td>Store_5Dept_27</td>\n",
       "    </tr>\n",
       "    <tr>\n",
       "      <th>252</th>\n",
       "      <td>844.910536</td>\n",
       "      <td>-844.910536</td>\n",
       "      <td>Store_4Dept_60</td>\n",
       "    </tr>\n",
       "    <tr>\n",
       "      <th>302</th>\n",
       "      <td>842.705395</td>\n",
       "      <td>-842.705395</td>\n",
       "      <td>Store_5Dept_41</td>\n",
       "    </tr>\n",
       "    <tr>\n",
       "      <th>321</th>\n",
       "      <td>842.176660</td>\n",
       "      <td>-842.176660</td>\n",
       "      <td>Store_5Dept_71</td>\n",
       "    </tr>\n",
       "    <tr>\n",
       "      <th>204</th>\n",
       "      <td>839.895180</td>\n",
       "      <td>-839.895180</td>\n",
       "      <td>Store_3Dept_97</td>\n",
       "    </tr>\n",
       "    <tr>\n",
       "      <th>153</th>\n",
       "      <td>839.885568</td>\n",
       "      <td>-839.885568</td>\n",
       "      <td>Store_3Dept_27</td>\n",
       "    </tr>\n",
       "    <tr>\n",
       "      <th>130</th>\n",
       "      <td>838.599380</td>\n",
       "      <td>838.599380</td>\n",
       "      <td>Store_2Dept_9</td>\n",
       "    </tr>\n",
       "    <tr>\n",
       "      <th>311</th>\n",
       "      <td>837.316549</td>\n",
       "      <td>-837.316549</td>\n",
       "      <td>Store_5Dept_52</td>\n",
       "    </tr>\n",
       "    <tr>\n",
       "      <th>...</th>\n",
       "      <td>...</td>\n",
       "      <td>...</td>\n",
       "      <td>...</td>\n",
       "    </tr>\n",
       "    <tr>\n",
       "      <th>328</th>\n",
       "      <td>129.019118</td>\n",
       "      <td>-129.019118</td>\n",
       "      <td>Store_5Dept_80</td>\n",
       "    </tr>\n",
       "    <tr>\n",
       "      <th>217</th>\n",
       "      <td>126.334007</td>\n",
       "      <td>126.334007</td>\n",
       "      <td>Store_4Dept_22</td>\n",
       "    </tr>\n",
       "    <tr>\n",
       "      <th>120</th>\n",
       "      <td>123.217368</td>\n",
       "      <td>123.217368</td>\n",
       "      <td>Store_2Dept_74</td>\n",
       "    </tr>\n",
       "    <tr>\n",
       "      <th>58</th>\n",
       "      <td>114.006225</td>\n",
       "      <td>114.006225</td>\n",
       "      <td>Store_1Dept_80</td>\n",
       "    </tr>\n",
       "    <tr>\n",
       "      <th>81</th>\n",
       "      <td>112.959767</td>\n",
       "      <td>-112.959767</td>\n",
       "      <td>Store_2Dept_22</td>\n",
       "    </tr>\n",
       "    <tr>\n",
       "      <th>0</th>\n",
       "      <td>111.137683</td>\n",
       "      <td>111.137683</td>\n",
       "      <td>IsHoliday</td>\n",
       "    </tr>\n",
       "    <tr>\n",
       "      <th>121</th>\n",
       "      <td>109.859826</td>\n",
       "      <td>-109.859826</td>\n",
       "      <td>Store_2Dept_77</td>\n",
       "    </tr>\n",
       "    <tr>\n",
       "      <th>228</th>\n",
       "      <td>106.021458</td>\n",
       "      <td>-106.021458</td>\n",
       "      <td>Store_4Dept_32</td>\n",
       "    </tr>\n",
       "    <tr>\n",
       "      <th>187</th>\n",
       "      <td>105.253672</td>\n",
       "      <td>-105.253672</td>\n",
       "      <td>Store_3Dept_77</td>\n",
       "    </tr>\n",
       "    <tr>\n",
       "      <th>145</th>\n",
       "      <td>96.534295</td>\n",
       "      <td>96.534295</td>\n",
       "      <td>Store_3Dept_2</td>\n",
       "    </tr>\n",
       "    <tr>\n",
       "      <th>75</th>\n",
       "      <td>95.862448</td>\n",
       "      <td>95.862448</td>\n",
       "      <td>Store_2Dept_16</td>\n",
       "    </tr>\n",
       "    <tr>\n",
       "      <th>234</th>\n",
       "      <td>82.129103</td>\n",
       "      <td>-82.129103</td>\n",
       "      <td>Store_4Dept_39</td>\n",
       "    </tr>\n",
       "    <tr>\n",
       "      <th>194</th>\n",
       "      <td>77.016973</td>\n",
       "      <td>-77.016973</td>\n",
       "      <td>Store_3Dept_83</td>\n",
       "    </tr>\n",
       "    <tr>\n",
       "      <th>353</th>\n",
       "      <td>76.541134</td>\n",
       "      <td>76.541134</td>\n",
       "      <td>Year_2011</td>\n",
       "    </tr>\n",
       "    <tr>\n",
       "      <th>325</th>\n",
       "      <td>75.679973</td>\n",
       "      <td>-75.679973</td>\n",
       "      <td>Store_5Dept_78</td>\n",
       "    </tr>\n",
       "    <tr>\n",
       "      <th>324</th>\n",
       "      <td>75.043669</td>\n",
       "      <td>-75.043669</td>\n",
       "      <td>Store_5Dept_77</td>\n",
       "    </tr>\n",
       "    <tr>\n",
       "      <th>188</th>\n",
       "      <td>73.780521</td>\n",
       "      <td>-73.780521</td>\n",
       "      <td>Store_3Dept_78</td>\n",
       "    </tr>\n",
       "    <tr>\n",
       "      <th>327</th>\n",
       "      <td>72.298528</td>\n",
       "      <td>-72.298528</td>\n",
       "      <td>Store_5Dept_8</td>\n",
       "    </tr>\n",
       "    <tr>\n",
       "      <th>76</th>\n",
       "      <td>61.996332</td>\n",
       "      <td>-61.996332</td>\n",
       "      <td>Store_2Dept_17</td>\n",
       "    </tr>\n",
       "    <tr>\n",
       "      <th>264</th>\n",
       "      <td>57.943276</td>\n",
       "      <td>-57.943276</td>\n",
       "      <td>Store_4Dept_87</td>\n",
       "    </tr>\n",
       "    <tr>\n",
       "      <th>89</th>\n",
       "      <td>57.724756</td>\n",
       "      <td>-57.724756</td>\n",
       "      <td>Store_2Dept_3</td>\n",
       "    </tr>\n",
       "    <tr>\n",
       "      <th>212</th>\n",
       "      <td>51.241443</td>\n",
       "      <td>51.241443</td>\n",
       "      <td>Store_4Dept_17</td>\n",
       "    </tr>\n",
       "    <tr>\n",
       "      <th>133</th>\n",
       "      <td>45.994795</td>\n",
       "      <td>-45.994795</td>\n",
       "      <td>Store_2Dept_98</td>\n",
       "    </tr>\n",
       "    <tr>\n",
       "      <th>220</th>\n",
       "      <td>44.218089</td>\n",
       "      <td>44.218089</td>\n",
       "      <td>Store_4Dept_25</td>\n",
       "    </tr>\n",
       "    <tr>\n",
       "      <th>225</th>\n",
       "      <td>39.503102</td>\n",
       "      <td>-39.503102</td>\n",
       "      <td>Store_4Dept_3</td>\n",
       "    </tr>\n",
       "    <tr>\n",
       "      <th>106</th>\n",
       "      <td>33.407372</td>\n",
       "      <td>33.407372</td>\n",
       "      <td>Store_2Dept_49</td>\n",
       "    </tr>\n",
       "    <tr>\n",
       "      <th>84</th>\n",
       "      <td>30.418428</td>\n",
       "      <td>30.418428</td>\n",
       "      <td>Store_2Dept_25</td>\n",
       "    </tr>\n",
       "    <tr>\n",
       "      <th>202</th>\n",
       "      <td>27.375882</td>\n",
       "      <td>27.375882</td>\n",
       "      <td>Store_3Dept_95</td>\n",
       "    </tr>\n",
       "    <tr>\n",
       "      <th>5</th>\n",
       "      <td>8.094188</td>\n",
       "      <td>8.094188</td>\n",
       "      <td>Store_1Dept_14</td>\n",
       "    </tr>\n",
       "    <tr>\n",
       "      <th>268</th>\n",
       "      <td>0.132946</td>\n",
       "      <td>0.132946</td>\n",
       "      <td>Store_4Dept_98</td>\n",
       "    </tr>\n",
       "  </tbody>\n",
       "</table>\n",
       "<p>359 rows × 3 columns</p>\n",
       "</div>"
      ],
      "text/plain": [
       "         abscoef         coef         feature\n",
       "30   1173.000921  1173.000921   Store_1Dept_4\n",
       "4    1130.190207  1130.190207  Store_1Dept_13\n",
       "57   1129.633527  1129.633527   Store_1Dept_8\n",
       "66   1106.309513  1106.309513  Store_1Dept_97\n",
       "123   975.575467   975.575467  Store_2Dept_79\n",
       "267   973.855353   973.855353  Store_4Dept_97\n",
       "207   964.843628   964.843628  Store_4Dept_10\n",
       "70    963.102610   963.102610  Store_2Dept_10\n",
       "131   949.170122   949.170122  Store_2Dept_96\n",
       "239   948.709565   948.709565  Store_4Dept_46\n",
       "125   939.496752   939.496752  Store_2Dept_81\n",
       "260   925.941324   925.941324  Store_4Dept_81\n",
       "1     921.620484   921.620484  Store_1Dept_10\n",
       "56    907.363795   907.363795  Store_1Dept_79\n",
       "266   865.992737   865.992737  Store_4Dept_96\n",
       "181   861.221353  -861.221353  Store_3Dept_60\n",
       "59    861.032452   861.032452  Store_1Dept_81\n",
       "154   859.212209  -859.212209  Store_3Dept_28\n",
       "289   857.123528  -857.123528  Store_5Dept_28\n",
       "318   855.504925  -855.504925  Store_5Dept_60\n",
       "199   851.521661  -851.521661  Store_3Dept_91\n",
       "246   850.593131  -850.593131  Store_4Dept_54\n",
       "288   847.321914  -847.321914  Store_5Dept_27\n",
       "252   844.910536  -844.910536  Store_4Dept_60\n",
       "302   842.705395  -842.705395  Store_5Dept_41\n",
       "321   842.176660  -842.176660  Store_5Dept_71\n",
       "204   839.895180  -839.895180  Store_3Dept_97\n",
       "153   839.885568  -839.885568  Store_3Dept_27\n",
       "130   838.599380   838.599380   Store_2Dept_9\n",
       "311   837.316549  -837.316549  Store_5Dept_52\n",
       "..           ...          ...             ...\n",
       "328   129.019118  -129.019118  Store_5Dept_80\n",
       "217   126.334007   126.334007  Store_4Dept_22\n",
       "120   123.217368   123.217368  Store_2Dept_74\n",
       "58    114.006225   114.006225  Store_1Dept_80\n",
       "81    112.959767  -112.959767  Store_2Dept_22\n",
       "0     111.137683   111.137683       IsHoliday\n",
       "121   109.859826  -109.859826  Store_2Dept_77\n",
       "228   106.021458  -106.021458  Store_4Dept_32\n",
       "187   105.253672  -105.253672  Store_3Dept_77\n",
       "145    96.534295    96.534295   Store_3Dept_2\n",
       "75     95.862448    95.862448  Store_2Dept_16\n",
       "234    82.129103   -82.129103  Store_4Dept_39\n",
       "194    77.016973   -77.016973  Store_3Dept_83\n",
       "353    76.541134    76.541134       Year_2011\n",
       "325    75.679973   -75.679973  Store_5Dept_78\n",
       "324    75.043669   -75.043669  Store_5Dept_77\n",
       "188    73.780521   -73.780521  Store_3Dept_78\n",
       "327    72.298528   -72.298528   Store_5Dept_8\n",
       "76     61.996332   -61.996332  Store_2Dept_17\n",
       "264    57.943276   -57.943276  Store_4Dept_87\n",
       "89     57.724756   -57.724756   Store_2Dept_3\n",
       "212    51.241443    51.241443  Store_4Dept_17\n",
       "133    45.994795   -45.994795  Store_2Dept_98\n",
       "220    44.218089    44.218089  Store_4Dept_25\n",
       "225    39.503102   -39.503102   Store_4Dept_3\n",
       "106    33.407372    33.407372  Store_2Dept_49\n",
       "84     30.418428    30.418428  Store_2Dept_25\n",
       "202    27.375882    27.375882  Store_3Dept_95\n",
       "5       8.094188     8.094188  Store_1Dept_14\n",
       "268     0.132946     0.132946  Store_4Dept_98\n",
       "\n",
       "[359 rows x 3 columns]"
      ]
     },
     "execution_count": 32,
     "metadata": {},
     "output_type": "execute_result"
    }
   ],
   "source": [
    "# Put the features and coefs into a dataframe\n",
    "# sort by magnitude\n",
    "lasso_feat = pd.DataFrame(dict(feature=X_train.columns, coef=lasso_cv.coef_, abscoef=np.abs(lasso_cv.coef_)))\n",
    "lasso_feat.sort_values('abscoef', inplace=True, ascending=False)\n",
    "# main_features\n",
    "lasso_feat[lasso_feat.coef != 0.]"
   ]
  },
  {
   "cell_type": "markdown",
   "metadata": {},
   "source": [
    "** The list of features that are seleted and their magnitude of effect on weekly sales can be seen above**"
   ]
  },
  {
   "cell_type": "markdown",
   "metadata": {},
   "source": [
    "** We will set the predictors that we got from Lasso as our actual predictors and use in further models**"
   ]
  },
  {
   "cell_type": "code",
   "execution_count": 33,
   "metadata": {
    "collapsed": true
   },
   "outputs": [],
   "source": [
    "actual_predictors=lasso_feat[lasso_feat.coef != 0.].feature.values"
   ]
  },
  {
   "cell_type": "code",
   "execution_count": 34,
   "metadata": {},
   "outputs": [
    {
     "data": {
      "text/plain": [
       "1.5021409058295645"
      ]
     },
     "execution_count": 34,
     "metadata": {},
     "output_type": "execute_result"
    }
   ],
   "source": [
    "# Lets see the best alpha score\n",
    "lasso_cv.alpha_\n",
    "\n",
    "# best alpha score =1.5021409058295649 which could be used later"
   ]
  },
  {
   "cell_type": "code",
   "execution_count": 35,
   "metadata": {},
   "outputs": [
    {
     "data": {
      "text/plain": [
       "Lasso(alpha=1.5021409058295645, copy_X=True, fit_intercept=True,\n",
       "   max_iter=1000, normalize=False, positive=False, precompute=False,\n",
       "   random_state=None, selection='cyclic', tol=0.0001, warm_start=False)"
      ]
     },
     "execution_count": 35,
     "metadata": {},
     "output_type": "execute_result"
    }
   ],
   "source": [
    "# We will assign the best alpha score and according to that we will train and test our model\n",
    "best_lasso = Lasso(alpha=lasso_cv.alpha_)\n",
    "best_lasso.fit(X_train_s, y_train)"
   ]
  },
  {
   "cell_type": "code",
   "execution_count": 36,
   "metadata": {},
   "outputs": [
    {
     "name": "stdout",
     "output_type": "stream",
     "text": [
      "[ 0.91499011  0.92032274  0.9015731   0.91906451  0.9072877   0.91823588\n",
      "  0.91705906  0.90778069  0.91329368  0.90548851]\n",
      "0.912509598138\n"
     ]
    }
   ],
   "source": [
    "lasso_scores = cross_val_score(best_lasso, X_train_s, y_train, cv=10)\n",
    "\n",
    "print (lasso_scores)\n",
    "print (np.mean(lasso_scores))"
   ]
  },
  {
   "cell_type": "markdown",
   "metadata": {},
   "source": [
    "** Thats great. getting a cross validated score of 0.913 is good but consider that this is in train data. Now lets use this to predict our last 90 days data which the model don't know about. So if this works well in this test data give a good score and residual is small or comparable to train data we can assume its not overfitting**"
   ]
  },
  {
   "cell_type": "code",
   "execution_count": 37,
   "metadata": {},
   "outputs": [
    {
     "name": "stdout",
     "output_type": "stream",
     "text": [
      "R2:  0.909070609089\n",
      "Adjusted R2:  0.899586689467\n"
     ]
    }
   ],
   "source": [
    "lasso_yhat=best_lasso.predict(X_test_s)\n",
    "lasso_score=best_lasso.score(X_test_s, y_test)\n",
    "print(\"R2: \",lasso_score)\n",
    "lasso_adj_r2 = 1 - (len(y_test)-1)/(len(y_test)-X_test.shape[1]-1)*(1-lasso_score)\n",
    "print(\"Adjusted R2: \",lasso_adj_r2)"
   ]
  },
  {
   "cell_type": "code",
   "execution_count": 38,
   "metadata": {},
   "outputs": [
    {
     "name": "stdout",
     "output_type": "stream",
     "text": [
      "Train Residual 60962211.3656\n",
      "Test Residual 6682898.72555\n",
      "Residual ratio of Test to Train 0.109623627094\n"
     ]
    }
   ],
   "source": [
    "train_resids = y_train - best_lasso.predict(X_train_s)\n",
    "test_resids = y_test - lasso_yhat\n",
    "lasso_residue=np.abs(test_resids).sum()\n",
    "# Let me look at the actual Residuals.\n",
    "print(\"Train Residual\",np.abs(train_resids).sum())\n",
    "print(\"Test Residual\",lasso_residue)\n",
    "print(\"Residual ratio of Test to Train\",np.abs(test_resids).sum()/np.abs(train_resids).sum())\n",
    "# The Residual looks quite big. But this can be because our base values ( Weekly Sales) are quite big \n",
    "# and in terms of millions"
   ]
  },
  {
   "cell_type": "markdown",
   "metadata": {},
   "source": [
    "The residuals seems to be in same ratio,Train dataset have a higher ratio because its compartively bigger in size. \n"
   ]
  },
  {
   "cell_type": "code",
   "execution_count": 39,
   "metadata": {},
   "outputs": [
    {
     "data": {
      "image/png": "[encoded data removed]",
      "text/plain": [
       "<matplotlib.figure.Figure at 0x7fbbf6955a20>"
      ]
     },
     "metadata": {},
     "output_type": "display_data"
    }
   ],
   "source": [
    "sns.distplot(test_resids, kde=False, bins=40)\n",
    "plt.show()\n",
    "\n",
    "# The residuals looks ok and almost like a normal distribution"
   ]
  },
  {
   "cell_type": "code",
   "execution_count": 40,
   "metadata": {},
   "outputs": [
    {
     "data": {
      "image/png": "[encoded data removed]",
      "text/plain": [
       "<matplotlib.figure.Figure at 0x7fbbfa3852e8>"
      ]
     },
     "metadata": {},
     "output_type": "display_data"
    }
   ],
   "source": [
    "fig = plt.subplots(figsize=(8,6))\n",
    "plt.scatter(lasso_yhat,y_test,c=['b','r'])\n",
    "plt.xlabel('Sales Predicted')\n",
    "plt.ylabel('Sales- Actual')\n",
    "plt.title('Predicted versus Actual Weekly Sales of Stores')\n",
    "plt.savefig('/media/mahendra/GA/capstone_walmart/images/Actual_vs_Predicted_Sales.png')\n",
    "plt.show()"
   ]
  }
 ],
 "metadata": {
  "kernelspec": {
   "display_name": "Python 3",
   "language": "python",
   "name": "python3"
  },
  "language_info": {
   "codemirror_mode": {
    "name": "ipython",
    "version": 3
   },
   "file_extension": ".py",
   "mimetype": "text/x-python",
   "name": "python",
   "nbconvert_exporter": "python",
   "pygments_lexer": "ipython3",
   "version": "3.6.0"
  }
 },
 "nbformat": 4,
 "nbformat_minor": 2
}
